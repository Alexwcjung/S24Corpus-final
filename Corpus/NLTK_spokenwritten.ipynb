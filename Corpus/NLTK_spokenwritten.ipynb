{
  "nbformat": 4,
  "nbformat_minor": 0,
  "metadata": {
    "colab": {
      "private_outputs": true,
      "provenance": [],
      "include_colab_link": true
    },
    "kernelspec": {
      "name": "python3",
      "display_name": "Python 3"
    },
    "language_info": {
      "name": "python"
    }
  },
  "cells": [
    {
      "cell_type": "markdown",
      "metadata": {
        "id": "view-in-github",
        "colab_type": "text"
      },
      "source": [
        "<a href=\"https://colab.research.google.com/github/Alexwcjung/S24Corpus-final/blob/main/Corpus/NLTK_spokenwritten.ipynb\" target=\"_parent\"><img src=\"https://colab.research.google.com/assets/colab-badge.svg\" alt=\"Open In Colab\"/></a>"
      ]
    },
    {
      "cell_type": "markdown",
      "source": [
        "# NLTK analysis example: spoken vs. written comparison"
      ],
      "metadata": {
        "id": "taM6BlTkRraH"
      }
    },
    {
      "cell_type": "code",
      "source": [
        "!pip install nltk"
      ],
      "metadata": {
        "id": "HPiJhcTlhQXE"
      },
      "execution_count": null,
      "outputs": []
    },
    {
      "cell_type": "markdown",
      "source": [
        "# POS tagging using nltk and finding 'get + p.p.' and 'be+p.p.'\n",
        "\n",
        "\n"
      ],
      "metadata": {
        "id": "XzrjujxNip34"
      }
    },
    {
      "cell_type": "code",
      "source": [
        "import pandas as pd\n",
        "import requests\n",
        "from io import StringIO\n",
        "import nltk\n",
        "from nltk.tokenize import word_tokenize\n",
        "import re\n",
        "import matplotlib.pyplot as plt\n",
        "from scipy.stats import chi2_contingency\n",
        "\n",
        "# Download necessary NLTK resources\n",
        "nltk.download('punkt')  # Tokenizer model\n",
        "nltk.download('averaged_perceptron_tagger')  # POS tagger model"
      ],
      "metadata": {
        "id": "fljaA3hxcvnn"
      },
      "execution_count": null,
      "outputs": []
    },
    {
      "cell_type": "code",
      "source": [
        "# Function to read and process data from a URL\n",
        "def read_and_process_data(url):\n",
        "    response = requests.get(url)\n",
        "    data = pd.read_csv(StringIO(response.text))\n",
        "    combined_text = ' '.join(data['text'].astype(str))\n",
        "    tokens = word_tokenize(combined_text)\n",
        "    tokens = [word for word in tokens if word.isalpha()]  # Remove punctuation\n",
        "    return tokens\n",
        "\n",
        "# URLs for spoken and written data\n",
        "spoken_url = 'https://raw.githubusercontent.com/Alexwcjung/S24Corpus-final/main/Corpus/Cleantext0605.csv'  # Replace with your actual URL for spoken data\n",
        "written_url = 'https://raw.githubusercontent.com/Alexwcjung/S24Corpus-final/main/Corpus/now_final.csv'  # Replace with your actual URL for written data\n",
        "\n",
        "# Process spoken data\n",
        "spoken_tokens = read_and_process_data(spoken_url)\n",
        "\n",
        "# Process written data\n",
        "written_tokens = read_and_process_data(written_url)\n"
      ],
      "metadata": {
        "id": "mErKcma1c37n"
      },
      "execution_count": null,
      "outputs": []
    },
    {
      "cell_type": "code",
      "source": [
        "from nltk.tokenize import sent_tokenize\n",
        "from nltk import pos_tag, word_tokenize\n",
        "def fetch_text_from_url(url):\n",
        "    response = requests.get(url)\n",
        "    response.raise_for_status()\n",
        "    return response.text\n",
        "\n",
        "def count_passives(text):\n",
        "    sentences = sent_tokenize(text)\n",
        "    be_passives_count = 0\n",
        "    get_passives_count = 0\n",
        "\n",
        "    be_forms = ['be', 'is', 'am', 'are', 'was', 'were', 'been', 'being']\n",
        "\n",
        "    for sentence in sentences:\n",
        "        words = word_tokenize(sentence)\n",
        "        tagged = pos_tag(words)\n",
        "\n",
        "        # Identify 'be' followed by a past participle\n",
        "        for i in range(len(tagged) - 1):\n",
        "            word, tag = tagged[i]\n",
        "            next_word, next_tag = tagged[i + 1]\n",
        "            if word.lower() in be_forms and next_tag == 'VBN':\n",
        "                be_passives_count += 1\n",
        "            if word.lower() == 'get' and next_tag == 'VBN':\n",
        "                get_passives_count += 1\n",
        "\n",
        "    return be_passives_count, get_passives_count\n",
        "\n",
        "# URLs to the spoken and written text files\n",
        "spoken_text_url = 'https://raw.githubusercontent.com/Alexwcjung/S24Corpus-final/main/Corpus/Cleantext0605.csv'\n",
        "written_text_url = 'https://raw.githubusercontent.com/Alexwcjung/S24Corpus-final/main/Corpus/now_final.csv'\n",
        "\n",
        "# Fetch the content of the URLs\n",
        "spoken_text = fetch_text_from_url(spoken_text_url)\n",
        "written_text = fetch_text_from_url(written_text_url)\n",
        "\n",
        "# Count passives\n",
        "spoken_be_passives_count, spoken_get_passives_count = count_passives(spoken_text)\n",
        "written_be_passives_count, written_get_passives_count = count_passives(written_text)\n",
        "\n",
        "# Print the results\n",
        "print(\"Number of 'be + past participle' tokens in spoken text:\", spoken_be_passives_count)\n",
        "print(\"Number of 'get + past participle' tokens in spoken text:\", spoken_get_passives_count)\n",
        "print(\"Number of 'be + past participle' tokens in written text:\", written_be_passives_count)\n",
        "print(\"Number of 'get + past participle' tokens in written text:\", written_get_passives_count)\n"
      ],
      "metadata": {
        "id": "gqL_fKBA6wDO"
      },
      "execution_count": null,
      "outputs": []
    },
    {
      "cell_type": "code",
      "source": [
        "# Given counts\n",
        "spoken_be_passives_count = 1794\n",
        "spoken_get_passives_count = 128\n",
        "written_be_passives_count = 13910\n",
        "written_get_passives_count = 124\n",
        "\n",
        "# Calculate total occurrences for each type of passive\n",
        "total_be_passives = spoken_be_passives_count + written_be_passives_count\n",
        "total_get_passives = spoken_get_passives_count + written_get_passives_count\n",
        "total_passives = total_be_passives + total_get_passives\n",
        "\n",
        "# Calculate total passives for spoken and written texts\n",
        "total_spoken_passives = spoken_be_passives_count + spoken_get_passives_count\n",
        "total_written_passives = written_be_passives_count + written_get_passives_count\n",
        "\n",
        "# Calculate percentages of 'be passives' and 'get passives' in the use of 'total passives'\n",
        "spoken_be_passives_percentage = (spoken_be_passives_count / total_spoken_passives) * 100 if total_spoken_passives > 0 else 0\n",
        "spoken_get_passives_percentage = (spoken_get_passives_count / total_spoken_passives) * 100 if total_spoken_passives > 0 else 0\n",
        "\n",
        "written_be_passives_percentage = (written_be_passives_count / total_written_passives) * 100 if total_written_passives > 0 else 0\n",
        "written_get_passives_percentage = (written_get_passives_count / total_written_passives) * 100 if total_written_passives > 0 else 0\n",
        "\n",
        "# Print the results\n",
        "print(\"Total occurrences of 'be + past participle' in spoken text:\", spoken_be_passives_count)\n",
        "print(\"Total occurrences of 'get + past participle' in spoken text:\", spoken_get_passives_count)\n",
        "print(\"Total occurrences of 'be + past participle' in written text:\", written_be_passives_count)\n",
        "print(\"Total occurrences of 'get + past participle' in written text:\", written_get_passives_count)\n",
        "\n",
        "print(\"\\nTotal occurrences of 'be + past participle':\", total_be_passives)\n",
        "print(\"Total occurrences of 'get + past participle':\", total_get_passives)\n",
        "print(\"Total occurrences of all passives:\", total_passives)\n",
        "\n",
        "print(\"\\nSpoken text - Percentage of 'be + past participle':\", spoken_be_passives_percentage)\n",
        "print(\"Spoken text - Percentage of 'get + past participle':\", spoken_get_passives_percentage)\n",
        "\n",
        "print(\"\\nWritten text - Percentage of 'be + past participle':\", written_be_passives_percentage)\n",
        "print(\"Written text - Percentage of 'get + past participle':\", written_get_passives_percentage)\n"
      ],
      "metadata": {
        "id": "VlrfQMg3AAEi"
      },
      "execution_count": null,
      "outputs": []
    },
    {
      "cell_type": "code",
      "source": [
        "import pandas as pd\n",
        "import matplotlib.pyplot as plt\n",
        "\n",
        "# Data\n",
        "data = {\n",
        "    'Category': [\n",
        "        'be + past participle in spoken text',\n",
        "        'get + past participle in spoken text',\n",
        "        'be + past participle in written text',\n",
        "        'get + past participle in written text'\n",
        "    ],\n",
        "    'Occurrences': [1794, 128, 13910, 124],\n",
        "    'Percentage': [93.34, 6.66, 99.12, 0.88]\n",
        "}\n",
        "\n",
        "# Create DataFrame\n",
        "df = pd.DataFrame(data)\n",
        "\n",
        "# Plotting the table\n",
        "fig, ax = plt.subplots(figsize=(12, 4))  # Set the figure size\n",
        "ax.axis('tight')\n",
        "ax.axis('off')\n",
        "\n",
        "# Create the table\n",
        "table = ax.table(cellText=df.values, colLabels=df.columns, cellLoc='center', loc='center')\n",
        "\n",
        "# Style the table\n",
        "table.auto_set_font_size(False)\n",
        "table.set_fontsize(10)\n",
        "table.scale(1.2, 1.2)\n",
        "\n",
        "# Save the table as a PNG image\n",
        "plt.savefig('passive_counts_table.png', bbox_inches='tight', pad_inches=0.1)\n",
        "\n",
        "# Display the image\n",
        "plt.show()\n"
      ],
      "metadata": {
        "id": "Ppp1yYE7Vo4i"
      },
      "execution_count": null,
      "outputs": []
    },
    {
      "cell_type": "code",
      "source": [
        "import matplotlib.pyplot as plt\n",
        "\n",
        "# Given counts\n",
        "spoken_be_passives_count = 1794\n",
        "spoken_get_passives_count = 128\n",
        "written_be_passives_count = 13910\n",
        "written_get_passives_count = 124\n",
        "\n",
        "# Calculate total occurrences for each type of passive\n",
        "total_be_passives = spoken_be_passives_count + written_be_passives_count\n",
        "total_get_passives = spoken_get_passives_count + written_get_passives_count\n",
        "total_passives = total_be_passives + total_get_passives\n",
        "\n",
        "# Calculate total passives for spoken and written texts\n",
        "total_spoken_passives = spoken_be_passives_count + spoken_get_passives_count\n",
        "total_written_passives = written_be_passives_count + written_get_passives_count\n",
        "\n",
        "# Calculate percentages of 'be passives' and 'get passives' in the use of 'total passives'\n",
        "spoken_be_passives_percentage = (spoken_be_passives_count / total_spoken_passives) * 100 if total_spoken_passives > 0 else 0\n",
        "spoken_get_passives_percentage = (spoken_get_passives_count / total_spoken_passives) * 100 if total_spoken_passives > 0 else 0\n",
        "\n",
        "written_be_passives_percentage = (written_be_passives_count / total_written_passives) * 100 if total_written_passives > 0 else 0\n",
        "written_get_passives_percentage = (written_get_passives_count / total_written_passives) * 100 if total_written_passives > 0 else 0\n",
        "\n",
        "# Prepare data for visualization\n",
        "labels = ['Spoken', 'Written']\n",
        "be_passives = [spoken_be_passives_percentage, written_be_passives_percentage]\n",
        "get_passives = [spoken_get_passives_percentage, written_get_passives_percentage]\n",
        "\n",
        "# Create bar width\n",
        "bar_width = 0.35\n",
        "\n",
        "# Set position of bar on X axis\n",
        "r1 = range(len(labels))\n",
        "r2 = [x + bar_width for x in r1]\n",
        "\n",
        "# Create bar plot\n",
        "plt.figure(figsize=(10, 6))\n",
        "plt.bar(r1, be_passives, color='b', width=bar_width, edgecolor='grey', label='be + past participle')\n",
        "plt.bar(r2, get_passives, color='r', width=bar_width, edgecolor='grey', label='get + past participle')\n",
        "\n",
        "# Add labels and titles\n",
        "plt.xlabel('Text Type', fontweight='bold')\n",
        "plt.ylabel('Percentage', fontweight='bold')\n",
        "plt.title('Percentage of Passives in Spoken and Written Texts')\n",
        "plt.xticks([r + bar_width/2 for r in range(len(labels))], labels)\n",
        "\n",
        "# Add legend\n",
        "plt.legend()\n",
        "\n",
        "# Show the plot\n",
        "plt.show()\n"
      ],
      "metadata": {
        "id": "jqqvVNfJCMWr"
      },
      "execution_count": null,
      "outputs": []
    },
    {
      "cell_type": "code",
      "source": [
        "import numpy as np\n",
        "from scipy.stats import chi2_contingency\n",
        "\n",
        "# Given counts\n",
        "spoken_be_passives_count = 1794\n",
        "spoken_get_passives_count = 128\n",
        "written_be_passives_count = 13910\n",
        "written_get_passives_count = 124\n",
        "\n",
        "# Create a contingency table\n",
        "observed = np.array([[spoken_be_passives_count, spoken_get_passives_count],\n",
        "                     [written_be_passives_count, written_get_passives_count]])\n",
        "\n",
        "# Perform the chi-square test\n",
        "chi2, p, dof, expected = chi2_contingency(observed)\n",
        "\n",
        "# Print the results\n",
        "print(\"Chi-square statistic:\", chi2)\n",
        "print(\"P-value:\", p)\n",
        "print(\"Degrees of freedom:\", dof)\n",
        "print(\"Expected frequencies:\\n\", expected)\n",
        "\n",
        "# Interpretation of the p-value\n",
        "alpha = 0.05\n",
        "if p < alpha:\n",
        "    print(\"The difference in passive constructions between spoken and written texts is statistically significant (reject null hypothesis).\")\n",
        "else:\n",
        "    print(\"The difference in passive constructions between spoken and written texts is not statistically significant (fail to reject null hypothesis).\")\n"
      ],
      "metadata": {
        "id": "D7osBKNFHVVO"
      },
      "execution_count": null,
      "outputs": []
    },
    {
      "cell_type": "code",
      "source": [
        "import pandas as pd\n",
        "import matplotlib.pyplot as plt\n",
        "\n",
        "# Chi-square test results\n",
        "data = {\n",
        "    'Statistic': ['Chi-square statistic', 'P-value', 'Degrees of freedom', 'Expected frequency (Spoken \"be\" + past participle)', 'Expected frequency (Spoken \"get\" + past participle)', 'Expected frequency (Written \"be\" + past participle)', 'Expected frequency (Written \"get\" + past participle)', 'Conclusion'],\n",
        "    'Value': [359.143, '4.327e-80', 1, 1891.645, 30.355, 13812.355, 221.645, 'Statistically significant (reject null hypothesis)']\n",
        "}\n",
        "\n",
        "# Create DataFrame\n",
        "df = pd.DataFrame(data)\n",
        "\n",
        "# Plotting the table\n",
        "fig, ax = plt.subplots(figsize=(12, 4))  # Set the figure size\n",
        "ax.axis('tight')\n",
        "ax.axis('off')\n",
        "\n",
        "# Create the table\n",
        "table = ax.table(cellText=df.values, colLabels=df.columns, cellLoc='center', loc='center')\n",
        "\n",
        "# Style the table\n",
        "table.auto_set_font_size(False)\n",
        "table.set_fontsize(10)\n",
        "table.scale(1.2, 1.2)\n",
        "\n",
        "# Save the table as a PNG image\n",
        "plt.savefig('chi_square_results_table.png', bbox_inches='tight', pad_inches=0.1)\n",
        "\n",
        "# Display the image\n",
        "plt.show()\n"
      ],
      "metadata": {
        "id": "FHQKNlJPZtuz"
      },
      "execution_count": null,
      "outputs": []
    },
    {
      "cell_type": "markdown",
      "source": [
        "\n",
        "# **The End**"
      ],
      "metadata": {
        "id": "frSz-yLWYPst"
      }
    }
  ]
}